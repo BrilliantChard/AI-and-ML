{
 "cells": [
  {
   "cell_type": "code",
   "execution_count": 3,
   "id": "360b2da9-06de-4895-8539-c52a94a2de05",
   "metadata": {},
   "outputs": [],
   "source": [
    "import numpy as np"
   ]
  },
  {
   "cell_type": "code",
   "execution_count": 4,
   "id": "d2df125f-8efa-4aaf-9d42-e03a2635ac62",
   "metadata": {},
   "outputs": [],
   "source": [
    "a = np.array([[1, 2, 3, 4, 5, 6, 7], [8, 9, 10, 11, 12, 13, 14]])"
   ]
  },
  {
   "cell_type": "code",
   "execution_count": 6,
   "id": "173b58cb-4181-4431-92aa-2940faa21763",
   "metadata": {},
   "outputs": [
    {
     "data": {
      "text/plain": [
       "(2, 7)"
      ]
     },
     "execution_count": 6,
     "metadata": {},
     "output_type": "execute_result"
    }
   ],
   "source": [
    "a.shape"
   ]
  },
  {
   "cell_type": "code",
   "execution_count": 8,
   "id": "51161c4f-9686-47f9-bb18-18d7af3d0260",
   "metadata": {},
   "outputs": [
    {
     "data": {
      "text/plain": [
       "8"
      ]
     },
     "execution_count": 8,
     "metadata": {},
     "output_type": "execute_result"
    }
   ],
   "source": [
    "a.itemsize"
   ]
  },
  {
   "cell_type": "markdown",
   "id": "e24c163b-b171-4ee3-8a63-18e7f79e1bf9",
   "metadata": {},
   "source": [
    "# Getting a Specific Element"
   ]
  },
  {
   "cell_type": "code",
   "execution_count": 9,
   "id": "f4c94b36-2848-4180-95e0-5d59e80f6319",
   "metadata": {},
   "outputs": [],
   "source": [
    "# Getting a specific element [r, c]\n",
    "# Where r is the index of the element row and c is the column index of the element"
   ]
  },
  {
   "cell_type": "code",
   "execution_count": 12,
   "id": "57014341-da0e-423a-aa2e-9f9267823006",
   "metadata": {},
   "outputs": [],
   "source": [
    "# accessing 6 in the array a\n",
    "\n",
    "a1 = a[0, 5]"
   ]
  },
  {
   "cell_type": "code",
   "execution_count": 13,
   "id": "304466e2-5410-46b9-a0b0-d3e262ce6f90",
   "metadata": {},
   "outputs": [
    {
     "name": "stdout",
     "output_type": "stream",
     "text": [
      "6\n"
     ]
    }
   ],
   "source": [
    "print(a1)"
   ]
  },
  {
   "cell_type": "code",
   "execution_count": 11,
   "id": "abbb653f-3c66-48f4-b776-46f76ac15733",
   "metadata": {},
   "outputs": [
    {
     "data": {
      "text/plain": [
       "np.int64(6)"
      ]
     },
     "execution_count": 11,
     "metadata": {},
     "output_type": "execute_result"
    }
   ],
   "source": [
    "a[0, -2]"
   ]
  },
  {
   "cell_type": "markdown",
   "id": "07ed737a-82be-4407-9904-d7d97c2036f0",
   "metadata": {},
   "source": [
    "# Getting a specific row and column"
   ]
  },
  {
   "cell_type": "code",
   "execution_count": 16,
   "id": "a0ee163d-c032-4ca8-9488-4684ce6f17ad",
   "metadata": {},
   "outputs": [
    {
     "data": {
      "text/plain": [
       "array([1, 2, 3, 4, 5, 6, 7])"
      ]
     },
     "execution_count": 16,
     "metadata": {},
     "output_type": "execute_result"
    }
   ],
   "source": [
    "# Getting the first row\n",
    "\n",
    "a1_row = a[0, : ]\n",
    "a1_row"
   ]
  },
  {
   "cell_type": "code",
   "execution_count": 20,
   "id": "75a5fe60-4016-4e03-b7d0-f30c14646478",
   "metadata": {},
   "outputs": [
    {
     "data": {
      "text/plain": [
       "array([ 4, 11])"
      ]
     },
     "execution_count": 20,
     "metadata": {},
     "output_type": "execute_result"
    }
   ],
   "source": [
    "# Getting a specific column\n",
    "\n",
    "a1_column = a[:, 3]\n",
    "a1_column"
   ]
  },
  {
   "cell_type": "code",
   "execution_count": 23,
   "id": "3fcd8be0-7081-4e7f-8993-ab90b1ff1d6f",
   "metadata": {},
   "outputs": [
    {
     "data": {
      "text/plain": [
       "array([3, 5, 7])"
      ]
     },
     "execution_count": 23,
     "metadata": {},
     "output_type": "execute_result"
    }
   ],
   "source": [
    " # [startindex: endindex: stepsize]\n",
    "\n",
    "a1_step = a[0, 2: 7: 2]\n",
    "a1_step"
   ]
  },
  {
   "cell_type": "code",
   "execution_count": null,
   "id": "f7899e25-a3c7-4fc4-bfb2-18a4e0952bb6",
   "metadata": {},
   "outputs": [],
   "source": []
  }
 ],
 "metadata": {
  "kernelspec": {
   "display_name": "Python 3 (ipykernel)",
   "language": "python",
   "name": "python3"
  },
  "language_info": {
   "codemirror_mode": {
    "name": "ipython",
    "version": 3
   },
   "file_extension": ".py",
   "mimetype": "text/x-python",
   "name": "python",
   "nbconvert_exporter": "python",
   "pygments_lexer": "ipython3",
   "version": "3.13.2"
  }
 },
 "nbformat": 4,
 "nbformat_minor": 5
}
