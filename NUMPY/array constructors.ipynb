{
 "cells": [
  {
   "cell_type": "code",
   "execution_count": 1,
   "id": "3e5a2f62-2763-4cff-97cd-d1ad8f60124c",
   "metadata": {},
   "outputs": [],
   "source": [
    "import numpy as np"
   ]
  },
  {
   "cell_type": "markdown",
   "id": "465a237c-a0e5-4b45-a17d-d1aaf06814cb",
   "metadata": {},
   "source": [
    "# Common array Constructors"
   ]
  },
  {
   "cell_type": "code",
   "execution_count": 7,
   "id": "0c6d0175-6995-4f71-a368-b999aaa579b0",
   "metadata": {},
   "outputs": [],
   "source": [
    "# 4x6 array filled with 0\n",
    "\n",
    "arr_zeros = np.zeros((4, 6))"
   ]
  },
  {
   "cell_type": "code",
   "execution_count": 8,
   "id": "4917fb48-b10a-459c-9bb0-be1ac4e56a4e",
   "metadata": {},
   "outputs": [
    {
     "data": {
      "text/plain": [
       "array([[0., 0., 0., 0., 0., 0.],\n",
       "       [0., 0., 0., 0., 0., 0.],\n",
       "       [0., 0., 0., 0., 0., 0.],\n",
       "       [0., 0., 0., 0., 0., 0.]])"
      ]
     },
     "execution_count": 8,
     "metadata": {},
     "output_type": "execute_result"
    }
   ],
   "source": [
    "arr_zeros"
   ]
  },
  {
   "cell_type": "code",
   "execution_count": 5,
   "id": "0c3245eb-33ff-414e-a5d3-147048cd8453",
   "metadata": {},
   "outputs": [],
   "source": [
    "# Array filled with ones (1)\n",
    "\n",
    "arr_ones = np.ones((3, 5))"
   ]
  },
  {
   "cell_type": "code",
   "execution_count": 6,
   "id": "3e4c4c69-c1a0-4100-91cf-7831a51ad82d",
   "metadata": {},
   "outputs": [
    {
     "data": {
      "text/plain": [
       "array([[1., 1., 1., 1., 1.],\n",
       "       [1., 1., 1., 1., 1.],\n",
       "       [1., 1., 1., 1., 1.]])"
      ]
     },
     "execution_count": 6,
     "metadata": {},
     "output_type": "execute_result"
    }
   ],
   "source": [
    "arr_ones"
   ]
  },
  {
   "cell_type": "code",
   "execution_count": 13,
   "id": "a7c9d3eb-b098-49e2-ac32-8eacd9d4f8a1",
   "metadata": {},
   "outputs": [],
   "source": [
    "# Identity matrix\n",
    "\n",
    "arr_identity = np.eye(4)"
   ]
  },
  {
   "cell_type": "code",
   "execution_count": 14,
   "id": "20f5de2f-6e47-4269-9830-24ec43535ef4",
   "metadata": {},
   "outputs": [
    {
     "data": {
      "text/plain": [
       "array([[1., 0., 0., 0.],\n",
       "       [0., 1., 0., 0.],\n",
       "       [0., 0., 1., 0.],\n",
       "       [0., 0., 0., 1.]])"
      ]
     },
     "execution_count": 14,
     "metadata": {},
     "output_type": "execute_result"
    }
   ],
   "source": [
    "arr_identity"
   ]
  },
  {
   "cell_type": "code",
   "execution_count": 16,
   "id": "010d71eb-6d1f-42d3-8279-7f08461461de",
   "metadata": {},
   "outputs": [],
   "source": [
    "# Filling a given array with a specific number\n",
    "\n",
    "arr_fill = np.full((2, 2,), 6)"
   ]
  },
  {
   "cell_type": "raw",
   "id": "e6f4d1a0-bfa5-4223-83be-8cf40ef50dab",
   "metadata": {},
   "source": [
    "arr_fill"
   ]
  },
  {
   "cell_type": "code",
   "execution_count": null,
   "id": "5993d889-36a7-4011-9c2b-de8ee680e2b2",
   "metadata": {},
   "outputs": [],
   "source": []
  }
 ],
 "metadata": {
  "kernelspec": {
   "display_name": "Python 3 (ipykernel)",
   "language": "python",
   "name": "python3"
  },
  "language_info": {
   "codemirror_mode": {
    "name": "ipython",
    "version": 3
   },
   "file_extension": ".py",
   "mimetype": "text/x-python",
   "name": "python",
   "nbconvert_exporter": "python",
   "pygments_lexer": "ipython3",
   "version": "3.13.2"
  }
 },
 "nbformat": 4,
 "nbformat_minor": 5
}
